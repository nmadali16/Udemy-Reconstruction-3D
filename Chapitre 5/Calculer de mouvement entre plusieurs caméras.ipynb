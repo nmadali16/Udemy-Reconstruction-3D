{
 "cells": [
  {
   "cell_type": "code",
   "execution_count": 1,
   "metadata": {
    "id": "viC1qndF5wxa"
   },
   "outputs": [],
   "source": [
    "import sys\n",
    "import numpy as np\n",
    "import cv2\n",
    "\n",
    "\n",
    "import os\n",
    "import scipy.misc\n",
    "from scipy.optimize import least_squares\n",
    "import math\n",
    "from copy import deepcopy\n",
    "import matplotlib.pyplot as plt\n",
    "from mpl_toolkits.mplot3d import Axes3D\n",
    "from sfm_utils import *\n",
    "\n"
   ]
  },
  {
   "cell_type": "code",
   "execution_count": null,
   "metadata": {
    "id": "QykTGj543PNH"
   },
   "outputs": [],
   "source": []
  },
  {
   "cell_type": "code",
   "execution_count": 2,
   "metadata": {
    "id": "Q4mHRlMS7iZ2"
   },
   "outputs": [],
   "source": [
    "image_data_dir = '../data/statue/'\n",
    "unit_test_camera_matrix = np.load('../data/unit_test_camera_matrix.npy')\n",
    "unit_test_image_matches = np.load('../data/unit_test_image_matches.npy')\n",
    "image_paths = [os.path.join(image_data_dir, 'images', x) for x in sorted(os.listdir('../data/statue/images')) if '.jpg' in x]"
   ]
  },
  {
   "cell_type": "code",
   "execution_count": 3,
   "metadata": {
    "id": "6p-hbLFlBwrS"
   },
   "outputs": [],
   "source": [
    "im0 = cv2.imread(image_paths[0])\n",
    "im_height, im_width, _ = im0.shape"
   ]
  },
  {
   "cell_type": "code",
   "execution_count": 4,
   "metadata": {
    "colab": {
     "base_uri": "https://localhost:8080/"
    },
    "executionInfo": {
     "elapsed": 297,
     "status": "ok",
     "timestamp": 1694856240226,
     "user": {
      "displayName": "nabil bcom",
      "userId": "04169804032469069549"
     },
     "user_tz": -120
    },
    "id": "A23_q4PiwjSN",
    "outputId": "69386901-9f30-44d8-d0f2-1a5924d0dd03"
   },
   "outputs": [
    {
     "name": "stdout",
     "output_type": "stream",
     "text": [
      "5\n"
     ]
    }
   ],
   "source": [
    "print(len(image_paths))"
   ]
  },
  {
   "cell_type": "code",
   "execution_count": 5,
   "metadata": {
    "id": "2CF38oWj7j-Y"
   },
   "outputs": [],
   "source": [
    "\n",
    "focal_length = 719.5459\n",
    "matches_subset = np.load(os.path.join(image_data_dir,'matches_subset.npy'), allow_pickle=True,encoding='latin1')[0,:]\n",
    "dense_matches = np.load(os.path.join(image_data_dir, 'dense_matches.npy'),allow_pickle=True,encoding='latin1')\n",
    "fundamental_matrices = np.load(os.path.join(image_data_dir,'fundamental_matrices.npy'),allow_pickle=True,encoding='latin1')[0,:]\n"
   ]
  },
  {
   "cell_type": "code",
   "execution_count": 6,
   "metadata": {
    "id": "lTRnT0uu-Ju5"
   },
   "outputs": [],
   "source": [
    "class Frame:\n",
    "    def __init__(self, matches, focal_length, F, im_width, im_height):\n",
    "        self.focal_length = focal_length\n",
    "        self.im_height = im_height\n",
    "        self.im_width = im_width\n",
    "        self.matches = matches\n",
    "\n",
    "        self.N = matches.shape[0]\n",
    "        self.match_idx = np.array([np.arange(self.N), np.arange(self.N, 2 * self.N)])\n",
    "        self.match_points = np.vstack((matches[:,:2], matches[:,2:]))\n",
    "\n",
    "        self.K = np.eye(3)\n",
    "        self.K[0,0] = self.K[1,1] = focal_length\n",
    "        self.E = self.K.T.dot(F).dot(self.K)\n",
    "        self.T = estimate_RT_from_E(self.E, matches.reshape((-1,2,2)), self.K)\n",
    "\n",
    "        self.motion = np.zeros((2,3,4))\n",
    "        self.motion[0,:,:-1] = np.eye(3)\n",
    "        self.motion[1,:,:] = self.T\n",
    "        self.structure = triangulate(self)"
   ]
  },
  {
   "cell_type": "code",
   "execution_count": 7,
   "metadata": {
    "colab": {
     "base_uri": "https://localhost:8080/"
    },
    "executionInfo": {
     "elapsed": 5069,
     "status": "ok",
     "timestamp": 1694856253910,
     "user": {
      "displayName": "nabil bcom",
      "userId": "04169804032469069549"
     },
     "user_tz": -120
    },
    "id": "3tH5LcWxAm5a",
    "outputId": "1c29506e-e5d7-400a-dc30-f0b350de56ae"
   },
   "outputs": [
    {
     "name": "stderr",
     "output_type": "stream",
     "text": [
      "C:\\Users\\nmadali\\Documents\\Udemy-Reconstruction-3D\\Chapitre 5\\triangulation.py:197: VisibleDeprecationWarning: Creating an ndarray from ragged nested sequences (which is a list-or-tuple of lists-or-tuples-or ndarrays with different lengths or shapes) is deprecated. If you meant to do this, you must specify 'dtype=object' when creating the ndarray.\n",
      "  P_homo = np.array([P[0], P[1], P[2], 1.0])\n"
     ]
    }
   ],
   "source": [
    "frames = [0] * (len(image_paths) - 1)\n",
    "for i in range(len(image_paths)-1):\n",
    "        frames[i] = Frame(matches_subset[i].T, focal_length,\n",
    "                fundamental_matrices[i], im_width, im_height)\n",
    "        bundle_adjustment(frames[i])"
   ]
  },
  {
   "cell_type": "markdown",
   "metadata": {
    "id": "Ml-VhUZ4C5rH"
   },
   "source": [
    "Pour effectuer la transition d'une caméra à une troisième, en utilisant les matrices de rotation et de translation, voici les étapes :\n",
    "\n",
    "1. **Transfert de la première caméra à la deuxième caméra** :\n",
    "\n",
    "   Étant donné la matrice de rotation $R_{12}$ et le vecteur de translation $t_{12}$ qui décrivent la transformation de la première caméra à la deuxième caméra, vous pouvez utiliser les éléments suivants pour transformer un point $P$ du système de coordonnées de la première caméra au système de coordonnées de la deuxième caméra avec l'équation suivante :\n",
    "\n",
    "   $$P_{2} = R_{12} \\cdot P_{1} + t_{12}$$\n",
    "\n",
    "   Ici, $P_{1}$ est la position du point dans le système de coordonnées de la première caméra, $P_{2}$ est la position du point dans le système de coordonnées de la deuxième caméra.\n",
    "\n",
    "2. **Transfert de la deuxième caméra à la troisième caméra** :\n",
    "\n",
    "   De même, étant donné la matrice de rotation $R_{23}$ et le vecteur de translation $t_{23}$ qui décrivent la transformation de la deuxième caméra à la troisième caméra, vous pouvez transformer le point $P_{2}$ du système de coordonnées de la deuxième caméra au système de coordonnées de la troisième caméra avec l'équation suivante :\n",
    "\n",
    "   $$P_{3} = R_{23} \\cdot P_{2} + t_{23}$$\n",
    "\n",
    "   Ici, $P_{2}$ est la position du point dans le système de coordonnées de la deuxième caméra, $P_{3}$ est la position du point dans le système de coordonnées de la troisième caméra.\n",
    "\n",
    "3. **Transformation combinée** :\n",
    "\n",
    "   Si vous souhaitez directement transformer un point du système de coordonnées de la première caméra au système de coordonnées de la troisième caméra, vous pouvez combiner les transformations comme suit :\n",
    "\n",
    "   $$P_{3} = R_{23} \\cdot (R_{12} \\cdot P_{1} + t_{12}) + t_{23}$$\n",
    "\n",
    "   Cela se simplifie en :\n",
    "\n",
    "   $$P_{3} = R_{23} \\cdot R_{12} \\cdot P_{1} + R_{23} \\cdot t_{12} + t_{23}$$\n",
    "\n",
    "Assurez-vous d'avoir correctement défini les matrices de rotation et les vecteurs de translation, et que les systèmes de coordonnées soient cohérents entre toutes les transformations."
   ]
  },
  {
   "cell_type": "markdown",
   "metadata": {
    "id": "soO7AJi4EnaI"
   },
   "source": [
    "* Précédemment, nous avons travaillé sur un système composé de deux caméras\n",
    "\n",
    "<img src=\"https://drive.google.com/uc?export=view&id=1wNGTJyDez5xSHJ6yN89lRB8tbA-eoMdd\">\n",
    "\n",
    "* Avec une matrice de projection respective :\n",
    "$$M=K [I \\mid 0 ] $$ $$M'=K [R \\mid t ] $$\n",
    "* Par conséquent, la transition entre la deuxième et la première matrice est donnée par\n",
    "\n",
    "$$[R^T \\mid -R^Tt ]$$\n",
    "\n",
    "* Pour fair le passage de la troisieme camera a la premiere :\n",
    "\n",
    "   $$P = R_{12} \\cdot R_{23} \\cdot P_{1} + R_{12} \\cdot t_{23} + t_{12}$$\n",
    "\n",
    "\n",
    "\n"
   ]
  },
  {
   "cell_type": "code",
   "execution_count": 9,
   "metadata": {
    "id": "PRoUHtRqDaQU"
   },
   "outputs": [],
   "source": [
    "def inverse(x):\n",
    "    return np.hstack((x[:3, :3].T, -x[:3, :3].T.dot(x[:3, -1]).reshape((3,-1))))\n",
    "def multiply_transformations(A, B):\n",
    "    return np.hstack((A[:,:3].dot(B[:,:3]), (A[:,:3].dot(B[:,-1]) + A[:,-1]).reshape((3,-1))))"
   ]
  },
  {
   "cell_type": "code",
   "execution_count": 10,
   "metadata": {
    "id": "fxAQ_IgVGk-R"
   },
   "outputs": [],
   "source": [
    "def transform_points(points_3d, Rt, is_inverse = False):\n",
    "    if is_inverse:\n",
    "        return Rt[:,:3].T.dot((points_3d - Rt[:,-1]).T).T\n",
    "    return Rt[:,:3].dot(points_3d.T).T + Rt[:,-1]"
   ]
  },
  {
   "cell_type": "code",
   "execution_count": 13,
   "metadata": {
    "id": "34NnSLErfRyp"
   },
   "outputs": [],
   "source": [
    "frameA=frames[0] \n",
    "frameB=frames[1]  "
   ]
  },
  {
   "cell_type": "code",
   "execution_count": 14,
   "metadata": {
    "id": "a74ETZPZH_6x"
   },
   "outputs": [],
   "source": [
    "merged_frame = deepcopy(frameA)\n",
    "\n",
    "frameB_to_A = multiply_transformations(inverse(frameA.motion[-1,:,:]), frameB.motion[0,:,:])\n",
    "frameB.structure = transform_points(frameB.structure, frameB_to_A)\n",
    "for i in range(2):\n",
    "        frameB.motion[i,:,:] = multiply_transformations(frameB.motion[i,:,:], inverse(frameB_to_A))\n",
    "\n",
    "# puisque la caméra se trouve dans le cadre de référence fusionné, l'ajouter à la matrice de mouvement\n",
    "merged_frame.motion = np.vstack((merged_frame.motion, frameB.motion[-1,:,:].reshape((-1,3,4))))"
   ]
  },
  {
   "cell_type": "code",
   "execution_count": null,
   "metadata": {},
   "outputs": [],
   "source": []
  }
 ],
 "metadata": {
  "colab": {
   "authorship_tag": "ABX9TyORu4u7wp6zqDYOfidjp3UK",
   "provenance": []
  },
  "kernelspec": {
   "display_name": "Python 3 (ipykernel)",
   "language": "python",
   "name": "python3"
  },
  "language_info": {
   "codemirror_mode": {
    "name": "ipython",
    "version": 3
   },
   "file_extension": ".py",
   "mimetype": "text/x-python",
   "name": "python",
   "nbconvert_exporter": "python",
   "pygments_lexer": "ipython3",
   "version": "3.9.13"
  }
 },
 "nbformat": 4,
 "nbformat_minor": 1
}
