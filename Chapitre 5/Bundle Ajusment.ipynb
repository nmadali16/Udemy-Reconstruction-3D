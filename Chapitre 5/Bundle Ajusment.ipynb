{
 "cells": [
  {
   "cell_type": "code",
   "execution_count": 1,
   "metadata": {
    "id": "viC1qndF5wxa"
   },
   "outputs": [],
   "source": [
    "import sys\n",
    "import numpy as np\n",
    "import cv2\n",
    "\n",
    "\n",
    "import os\n",
    "import scipy.misc\n",
    "from scipy.optimize import least_squares\n",
    "import math\n",
    "from copy import deepcopy\n",
    "import matplotlib.pyplot as plt\n",
    "from mpl_toolkits.mplot3d import Axes3D\n",
    "from sfm_utils import *\n",
    "\n"
   ]
  },
  {
   "cell_type": "markdown",
   "metadata": {
    "id": "UAKgsTx0W8Rn"
   },
   "source": [
    "L'ajustement de faisceau (ou \"bundle adjustment\" en anglais) est une étape cruciale dans la reconstruction 3D à partir d'images. Il s'agit d'une technique utilisée pour affiner simultanément la structure 3D et les paramètres des caméras afin d'obtenir la reconstruction la plus précise possible.\n",
    "\n",
    "Voici une explication simplifiée de la façon dont fonctionne l'ajustement de faisceau :\n",
    "\n",
    "1. **Données d'Entrée** :\n",
    "   - **Images** : Un ensemble d'images prises à partir de points de vue différents.\n",
    "   - **Correspondances de Caractéristiques** : Des points ou des caractéristiques clés dans les images qui peuvent être appariés entre différentes vues. Ceux-ci sont généralement détectés à l'aide de techniques telles que SIFT, ORB, etc.\n",
    "   - **Reconstruction Initiale** : Une estimation initiale de la structure 3D et des poses des caméras.\n",
    "\n",
    "2. **Calcul des Résidus** :\n",
    "   - Pour chaque correspondance de caractéristiques, un **résidu** est calculé. Le résidu est la différence entre la position observée (réelle) de la caractéristique dans l'image et la position prédite en projetant le point 3D dans l'image en utilisant les paramètres de la caméra actuelle.\n",
    "\n",
    "3. **Fonction Objectif** :\n",
    "   - Le but de l'ajustement de faisceau est de minimiser la somme des carrés des résidus. Cela forme une **fonction objectif** qui doit être minimisée.\n",
    "\n",
    "4. **Optimisation** :\n",
    "   - Le processus d'optimisation ajuste les coordonnées des points 3D et les paramètres de la caméra pour minimiser la fonction objectif. Cela peut être fait en utilisant divers algorithmes d'optimisation comme Levenberg-Marquardt, Gauss-Newton, ou des techniques plus modernes.\n",
    "\n",
    "5. **Processus Itératif** :\n",
    "   - L'optimisation est généralement effectuée de manière itérative. À chaque itération, l'algorithme ajuste les paramètres et recalcule les résidus. Ce processus continue jusqu'à ce que le changement dans la fonction objectif devienne très faible ou qu'un nombre spécifié d'itérations soit atteint.\n",
    "\n",
    "6. **Mise à Jour des Poses des Caméras et des Points 3D** :\n",
    "   - Après chaque itération, les poses estimées des caméras et les points 3D sont mis à jour.\n",
    "\n",
    "7. **Affinement** :\n",
    "   - L'ajustement de faisceau affine à la fois la structure 3D et les paramètres de la caméra, corrigeant ainsi les éventuelles inexactitudes dans la reconstruction initiale.\n",
    "\n",
    "8. **Résultat** :\n",
    "   - Le résultat final de l'ajustement de faisceau est une reconstruction 3D optimisée qui représente avec précision la scène.\n",
    "\n",
    "9. **Considérations** :\n",
    "   - L'ajustement de faisceau est un processus intensif en calcul, et le temps nécessaire à la convergence dépend de facteurs tels que le nombre d'images, de caractéristiques et de la complexité de la scène.\n",
    "\n",
    "L'ajustement de faisceau est une étape cruciale dans le pipeline des systèmes de structure à partir du mouvement (SfM) et de cartographie simultanée et localisation (SLAM). Il contribue à obtenir des reconstructions précises dans des scénarios où les estimations initiales peuvent être bruitées ou imprécises."
   ]
  },
  {
   "cell_type": "code",
   "execution_count": null,
   "metadata": {
    "id": "QykTGj543PNH"
   },
   "outputs": [],
   "source": []
  },
  {
   "cell_type": "code",
   "execution_count": 2,
   "metadata": {
    "id": "Q4mHRlMS7iZ2"
   },
   "outputs": [],
   "source": [
    "image_data_dir = '../data/statue/'\n",
    "unit_test_camera_matrix = np.load('../data/unit_test_camera_matrix.npy')\n",
    "unit_test_image_matches = np.load('../data/unit_test_image_matches.npy')\n",
    "image_paths = [os.path.join(image_data_dir, 'images', x) for x in sorted(os.listdir('../data/statue/images')) if '.jpg' in x]"
   ]
  },
  {
   "cell_type": "code",
   "execution_count": 3,
   "metadata": {
    "colab": {
     "base_uri": "https://localhost:8080/"
    },
    "executionInfo": {
     "elapsed": 3,
     "status": "ok",
     "timestamp": 1694851078137,
     "user": {
      "displayName": "nabil bcom",
      "userId": "04169804032469069549"
     },
     "user_tz": -120
    },
    "id": "A23_q4PiwjSN",
    "outputId": "638a7c3b-10d9-41cb-8a04-868635b4e966"
   },
   "outputs": [
    {
     "name": "stdout",
     "output_type": "stream",
     "text": [
      "5\n"
     ]
    }
   ],
   "source": [
    "print(len(image_paths))"
   ]
  },
  {
   "cell_type": "code",
   "execution_count": 4,
   "metadata": {
    "id": "2CF38oWj7j-Y"
   },
   "outputs": [],
   "source": [
    "\n",
    "focal_length = 719.5459\n",
    "matches_subset = np.load(os.path.join(image_data_dir,'matches_subset.npy'), allow_pickle=True,encoding='latin1')[0,:]\n",
    "dense_matches = np.load(os.path.join(image_data_dir, 'dense_matches.npy'),allow_pickle=True,encoding='latin1')\n",
    "fundamental_matrices = np.load(os.path.join(image_data_dir,'fundamental_matrices.npy'),allow_pickle=True,encoding='latin1')[0,:]\n"
   ]
  },
  {
   "cell_type": "code",
   "execution_count": 5,
   "metadata": {
    "colab": {
     "base_uri": "https://localhost:8080/"
    },
    "executionInfo": {
     "elapsed": 360,
     "status": "ok",
     "timestamp": 1694851078495,
     "user": {
      "displayName": "nabil bcom",
      "userId": "04169804032469069549"
     },
     "user_tz": -120
    },
    "id": "lQCOWFAmvpE0",
    "outputId": "0c925d99-cce2-4dce-f461-829dc68944d3"
   },
   "outputs": [
    {
     "name": "stdout",
     "output_type": "stream",
     "text": [
      "(4,)\n"
     ]
    }
   ],
   "source": [
    "print(matches_subset.shape)"
   ]
  },
  {
   "cell_type": "code",
   "execution_count": 6,
   "metadata": {
    "colab": {
     "base_uri": "https://localhost:8080/"
    },
    "executionInfo": {
     "elapsed": 4,
     "status": "ok",
     "timestamp": 1694851078495,
     "user": {
      "displayName": "nabil bcom",
      "userId": "04169804032469069549"
     },
     "user_tz": -120
    },
    "id": "rxT_-oMgwm1w",
    "outputId": "8a723da3-c2e1-4975-e05c-0472085d58db"
   },
   "outputs": [
    {
     "name": "stdout",
     "output_type": "stream",
     "text": [
      "(4, 50)\n"
     ]
    }
   ],
   "source": [
    "print(matches_subset[0].shape)"
   ]
  },
  {
   "cell_type": "code",
   "execution_count": 7,
   "metadata": {
    "colab": {
     "base_uri": "https://localhost:8080/"
    },
    "executionInfo": {
     "elapsed": 3,
     "status": "ok",
     "timestamp": 1694851078495,
     "user": {
      "displayName": "nabil bcom",
      "userId": "04169804032469069549"
     },
     "user_tz": -120
    },
    "id": "7IkRmhvnvs9y",
    "outputId": "a12bf962-735d-4e07-e297-decdf2cee60a"
   },
   "outputs": [
    {
     "name": "stdout",
     "output_type": "stream",
     "text": [
      "(4,)\n"
     ]
    }
   ],
   "source": [
    "print(dense_matches.shape)"
   ]
  },
  {
   "cell_type": "code",
   "execution_count": 8,
   "metadata": {
    "id": "eR2MjSHfw0q9"
   },
   "outputs": [],
   "source": [
    "matches=matches_subset[0].T\n",
    "match_points = np.vstack((matches[:,:2], matches[:,2:]))"
   ]
  },
  {
   "cell_type": "code",
   "execution_count": 9,
   "metadata": {
    "id": "OSKbhepB1xLs"
   },
   "outputs": [],
   "source": [
    "F=fundamental_matrices[0]"
   ]
  },
  {
   "cell_type": "code",
   "execution_count": 10,
   "metadata": {
    "id": "EzT7EPTSxAXs"
   },
   "outputs": [],
   "source": [
    "im0 = cv2.imread(image_paths[0])\n",
    "im_height, im_width, _ = im0.shape"
   ]
  },
  {
   "cell_type": "markdown",
   "metadata": {
    "id": "_O-IQ_zmH1kM"
   },
   "source": [
    "* Pour stocker les points et les correspondances, nous allons créer deux matrices :\n",
    "* La première contenant tous les points des deux images\n",
    "$$P=\\begin{bmatrix}\n",
    "p_{11}\\\\\n",
    "p_{12}\\\\\n",
    "\\vdots\\\\\n",
    "p_{1n}\\\\\n",
    "p_{21}\\\\\n",
    "p_{22}\\\\\n",
    "\\vdots\\\\\n",
    "p_{2n}\\\\\n",
    "\\end{bmatrix}$$\n",
    "\n",
    "* Est la correspondance avec les colonnes qui indiquent la caméra utilisée et la seconde est l'indice des points dans la première matrice.\n",
    "\n",
    "$$\\begin{bmatrix}\n",
    "1 & n+1 \\\\\n",
    "2 & n+2\\\\\n",
    "\\vdots & \\\\\n",
    "n & 2*n\n",
    "\\end{bmatrix}$$"
   ]
  },
  {
   "cell_type": "code",
   "execution_count": 11,
   "metadata": {
    "id": "3OvgQJDC0ekC"
   },
   "outputs": [],
   "source": [
    "N = matches.shape[0]\n",
    "match_idx = np.array([np.arange(N), np.arange(N, 2 * N)])"
   ]
  },
  {
   "cell_type": "code",
   "execution_count": 12,
   "metadata": {
    "id": "2Id8R61J0iAo"
   },
   "outputs": [
    {
     "name": "stderr",
     "output_type": "stream",
     "text": [
      "C:\\Users\\nmadali\\Downloads\\Udemy-Reconstruction-3D-main\\Chapitre 5\\triangulation.py:197: VisibleDeprecationWarning: Creating an ndarray from ragged nested sequences (which is a list-or-tuple of lists-or-tuples-or ndarrays with different lengths or shapes) is deprecated. If you meant to do this, you must specify 'dtype=object' when creating the ndarray.\n",
      "  P_homo = np.array([P[0], P[1], P[2], 1.0])\n"
     ]
    }
   ],
   "source": [
    "K = np.eye(3)\n",
    "K[0,0] = K[1,1] = focal_length\n",
    "\n",
    "E = K.T.dot(F).dot(K)\n",
    "T = estimate_RT_from_E(E, matches.reshape((-1,2,2)), K)"
   ]
  },
  {
   "cell_type": "code",
   "execution_count": 13,
   "metadata": {
    "id": "xOwmR5Ye1qbY"
   },
   "outputs": [],
   "source": [
    "motion = np.zeros((2,3,4))\n",
    "motion[0,:,:-1] = np.eye(3)\n",
    "motion[1,:,:] = T"
   ]
  },
  {
   "cell_type": "code",
   "execution_count": 14,
   "metadata": {
    "id": "zUweLRmW2Btw"
   },
   "outputs": [
    {
     "data": {
      "text/plain": [
       "array([[ 0, 50],\n",
       "       [ 1, 51],\n",
       "       [ 2, 52],\n",
       "       [ 3, 53],\n",
       "       [ 4, 54],\n",
       "       [ 5, 55],\n",
       "       [ 6, 56],\n",
       "       [ 7, 57],\n",
       "       [ 8, 58],\n",
       "       [ 9, 59],\n",
       "       [10, 60],\n",
       "       [11, 61],\n",
       "       [12, 62],\n",
       "       [13, 63],\n",
       "       [14, 64],\n",
       "       [15, 65],\n",
       "       [16, 66],\n",
       "       [17, 67],\n",
       "       [18, 68],\n",
       "       [19, 69],\n",
       "       [20, 70],\n",
       "       [21, 71],\n",
       "       [22, 72],\n",
       "       [23, 73],\n",
       "       [24, 74],\n",
       "       [25, 75],\n",
       "       [26, 76],\n",
       "       [27, 77],\n",
       "       [28, 78],\n",
       "       [29, 79],\n",
       "       [30, 80],\n",
       "       [31, 81],\n",
       "       [32, 82],\n",
       "       [33, 83],\n",
       "       [34, 84],\n",
       "       [35, 85],\n",
       "       [36, 86],\n",
       "       [37, 87],\n",
       "       [38, 88],\n",
       "       [39, 89],\n",
       "       [40, 90],\n",
       "       [41, 91],\n",
       "       [42, 92],\n",
       "       [43, 93],\n",
       "       [44, 94],\n",
       "       [45, 95],\n",
       "       [46, 96],\n",
       "       [47, 97],\n",
       "       [48, 98],\n",
       "       [49, 99]])"
      ]
     },
     "execution_count": 14,
     "metadata": {},
     "output_type": "execute_result"
    }
   ],
   "source": [
    "match_idx.T"
   ]
  },
  {
   "cell_type": "code",
   "execution_count": 15,
   "metadata": {
    "colab": {
     "base_uri": "https://localhost:8080/"
    },
    "executionInfo": {
     "elapsed": 3,
     "status": "ok",
     "timestamp": 1694851079192,
     "user": {
      "displayName": "nabil bcom",
      "userId": "04169804032469069549"
     },
     "user_tz": -120
    },
    "id": "tg3PZ3Hh2mow",
    "outputId": "0e3f983d-6a12-4d9a-8f42-c1b86f709886"
   },
   "outputs": [
    {
     "data": {
      "text/plain": [
       "(100, 2)"
      ]
     },
     "execution_count": 15,
     "metadata": {},
     "output_type": "execute_result"
    }
   ],
   "source": [
    "match_points.shape"
   ]
  },
  {
   "cell_type": "code",
   "execution_count": 16,
   "metadata": {
    "id": "v98xPq7r0p9f"
   },
   "outputs": [],
   "source": [
    "num_cameras, num_points = match_idx.shape\n",
    "structure = np.zeros((num_points,3))\n",
    "all_camera_matrices = np.zeros((num_cameras, 3, 4))\n",
    "\n",
    "for i in range(num_cameras):\n",
    "        all_camera_matrices[i,:,:] = K.dot(motion[i,:,:])\n",
    "\n",
    "for i in range(num_points):\n",
    "\n",
    "        valid_cameras = np.where(match_idx[:,i] >= 0)[0]\n",
    "\n",
    "        camera_matrices = all_camera_matrices[valid_cameras,:,:]\n",
    "        x = np.zeros((len(valid_cameras), 2))\n",
    "        for ctr, c in enumerate(valid_cameras):\n",
    "            x[ctr, :] = match_points[match_idx[c, i],:]\n",
    "\n",
    "        structure[i,:] = nonlinear_estimate_3d_point(x, camera_matrices)"
   ]
  },
  {
   "cell_type": "markdown",
   "metadata": {
    "id": "0h17bSXh5xEn"
   },
   "source": [
    "La représentation angle-axe, aussi appelée représentation axe-angle, est une façon de représenter une rotation en 3D en utilisant un axe de rotation et un angle de rotation autour de cet axe. C'est une représentation souvent plus intuitive qu'une matrice de rotation dans certains cas.\n",
    "\n",
    "Pour convertir une matrice de rotation en représentation angle-axe, vous pouvez suivre ces étapes :\n",
    "\n",
    "1. **Trouver l'axe de rotation** :\n",
    "\n",
    "   L'axe de rotation peut être extrait directement de la matrice de rotation. Si $ R $ est votre matrice de rotation, l'axe de rotation $ \\mathbf{n} $ peut être calculé comme suit :\n",
    "\n",
    "   $$\\mathbf{n} = \\frac{1}{2\\sin(\\theta)} \\begin{bmatrix} r_{32} - r_{23} \\\\ r_{13} - r_{31} \\\\ r_{21} - r_{12} \\end{bmatrix} $$\n",
    "\n",
    "   Où $ r_{ij} $ représente les éléments de la matrice de rotation.\n",
    "\n",
    "2. **Calculer l'angle de rotation** :\n",
    "\n",
    "   L'angle $ \\theta $ peut être calculé comme :\n",
    "\n",
    "   $$\\theta = \\arccos\\left(\\frac{\\text{trace}(R) - 1}{2}\\right) $$\n",
    "\n",
    "   où $\\text{trace}(R)$ est la somme des éléments diagonaux de la matrice de rotation.\n",
    "\n",
    "3. **Normaliser l'axe** :\n",
    "\n",
    "   Il est important de s'assurer que l'axe $ \\mathbf{n} $ soit un vecteur unitaire. Vous pouvez le faire en divisant chaque composante de $ \\mathbf{n} $ par sa magnitude :\n",
    "\n",
    "   $$\\mathbf{n} = \\frac{\\mathbf{n}}{\\|\\mathbf{n}\\|} $$\n",
    "\n",
    "La représentation résultante est $ (\\mathbf{n}, \\theta) $, où $ \\mathbf{n} $ est le vecteur unitaire représentant l'axe de rotation, et $ \\theta $ est l'angle de rotation autour de cet axe.\n",
    "\n"
   ]
  },
  {
   "cell_type": "code",
   "execution_count": 17,
   "metadata": {
    "id": "7Mbfq3dW6-Tz"
   },
   "outputs": [],
   "source": [
    "num_cameras = motion.shape[0]\n",
    "motion_angle_axis = np.zeros((num_cameras, 3, 2))\n",
    "for i in range(num_cameras):\n",
    "        motion_angle_axis[i, :, 0] = rotation_matrix_to_angle_axis(motion[i,:, :-1])\n",
    "        motion_angle_axis[i, :, 1] = motion[i, :, -1]"
   ]
  },
  {
   "cell_type": "code",
   "execution_count": 18,
   "metadata": {
    "id": "WH5X2rPj3pCC"
   },
   "outputs": [],
   "source": [
    "\n",
    "\n",
    "px = 0\n",
    "py = 0\n",
    "\n",
    "errors = reprojection_error_mot_str(match_idx, match_points, focal_length, px, py, motion_angle_axis, structure)\n",
    "vec = least_squares(reprojection_error_mot_str_opt, np.hstack((motion_angle_axis.flatten(), structure.flatten())),args=(match_idx, match_points, focal_length, px, py), method='lm')\n",
    "\n",
    "cut = 3 * 2 * num_cameras\n",
    "opt_val = vec['x']\n",
    "new_structure = opt_val[cut:].reshape((-1,3))\n",
    "motion_angle_axis = opt_val[:cut].reshape((-1, 3, 2))\n",
    "\n",
    "new_motion=np.zeros(motion.shape)"
   ]
  },
  {
   "cell_type": "code",
   "execution_count": 19,
   "metadata": {
    "id": "pxEArBrf4LEf"
   },
   "outputs": [],
   "source": [
    "def reprojection_error_mot_str_opt(mot_str, match_idx, match_points, f, px, py):\n",
    "    num_cameras = match_idx.shape[0]\n",
    "    cut = 3 * 2 * num_cameras\n",
    "    structure = mot_str[cut:].reshape((-1,3))\n",
    "    motion = mot_str[:cut].reshape((-1,3,2))\n",
    "\n",
    "    error = reprojection_error_mot_str(match_idx, match_points, f, px, py, motion, structure)\n",
    "    return error\n",
    "\n",
    "\n",
    "def reprojection_error_mot_str(match_idx, match_points, f, px, py, motion, structure):\n",
    "    N = match_idx.shape[0]\n",
    "\n",
    "    errors = None\n",
    "    for i in range(N):\n",
    "        valid_pts = match_idx[i,:] >= 0\n",
    "        valid_idx = match_idx[i, valid_pts]\n",
    "\n",
    "        RP = angle_axis_rotate(motion[i, :, 0], structure[valid_pts,:].T)\n",
    "\n",
    "        TRX = RP[0, :] + motion[i, 0, 1]\n",
    "        TRY = RP[1, :] + motion[i, 1, 1]\n",
    "        TRZ = RP[2, :] + motion[i, 2, 1]\n",
    "\n",
    "        TRXoZ = TRX / TRZ\n",
    "        TRYoZ = TRY / TRZ\n",
    "\n",
    "        x = f * TRXoZ + px\n",
    "        y = f * TRYoZ + py\n",
    "\n",
    "        ox = match_points[valid_idx, 0]\n",
    "        oy = match_points[valid_idx, 1]\n",
    "\n",
    "        if errors is None:\n",
    "            errors = np.vstack((x-ox, y-oy))\n",
    "        else:\n",
    "            errors = np.hstack((errors, np.vstack((x-ox, y-oy))))\n",
    "\n",
    "    return errors.flatten()\n",
    "\n"
   ]
  },
  {
   "cell_type": "code",
   "execution_count": 20,
   "metadata": {
    "id": "2mnfe_2z_Trj"
   },
   "outputs": [],
   "source": [
    "for i in range(num_cameras):\n",
    "        new_motion[i,:,:] = np.hstack((angle_axis_to_rotation_matrix(motion_angle_axis[i,:,0]), motion_angle_axis[i,:,1].reshape((3,1))))"
   ]
  },
  {
   "cell_type": "code",
   "execution_count": 21,
   "metadata": {
    "colab": {
     "base_uri": "https://localhost:8080/"
    },
    "executionInfo": {
     "elapsed": 256,
     "status": "ok",
     "timestamp": 1694851126541,
     "user": {
      "displayName": "nabil bcom",
      "userId": "04169804032469069549"
     },
     "user_tz": -120
    },
    "id": "ff81gro0_dcj",
    "outputId": "b455ceb0-023c-4e11-9a19-e3b54ec18a83"
   },
   "outputs": [
    {
     "name": "stdout",
     "output_type": "stream",
     "text": [
      "Old : [[1. 0. 0. 0.]\n",
      " [0. 1. 0. 0.]\n",
      " [0. 0. 1. 0.]]\n",
      "New : [[ 0.99952204 -0.02925256  0.00999943  0.03341117]\n",
      " [ 0.02935739  0.99951379 -0.01050349  0.09376459]\n",
      " [-0.00968731  0.01079203  0.99989484  0.05180252]]\n",
      "\n",
      "\n",
      "\n",
      "Old : [[ 0.97364135 -0.09878708 -0.20558119  0.99941228]\n",
      " [ 0.10189204  0.99478508  0.00454512 -0.00886961]\n",
      " [ 0.2040601  -0.02537241  0.97862951  0.03311219]]\n",
      "New : [[ 0.97207625 -0.12942094 -0.19574979  1.03553092]\n",
      " [ 0.13038181  0.99143138 -0.00802515  0.09193641]\n",
      " [ 0.19511111 -0.01772116  0.98062104  0.109328  ]]\n",
      "\n",
      "\n",
      "\n"
     ]
    }
   ],
   "source": [
    "for i in range(num_cameras):\n",
    "  print('Old :', motion[i,:,:])\n",
    "  print('New :',new_motion[i,:,:])\n",
    "  print()\n",
    "  print()\n",
    "  print()"
   ]
  },
  {
   "cell_type": "code",
   "execution_count": 22,
   "metadata": {
    "colab": {
     "base_uri": "https://localhost:8080/",
     "height": 412
    },
    "executionInfo": {
     "elapsed": 7,
     "status": "ok",
     "timestamp": 1694851080160,
     "user": {
      "displayName": "nabil bcom",
      "userId": "04169804032469069549"
     },
     "user_tz": -120
    },
    "id": "OsrTCZlx_Wld",
    "outputId": "5e476b50-7680-4faf-d810-e20ac411bb3a"
   },
   "outputs": [
    {
     "data": {
      "image/png": "[encoded data removed]",
      "text/plain": [
       "<Figure size 640x480 with 1 Axes>"
      ]
     },
     "metadata": {},
     "output_type": "display_data"
    }
   ],
   "source": [
    "fig = plt.figure()\n",
    "ax = fig.add_subplot(projection='3d')\n",
    "ax.scatter(structure[:,0], structure[:,1], structure[:,2])\n",
    "ax.scatter(new_structure[:,0], new_structure[:,1], new_structure[:,2])\n",
    "ax.set_xlabel('X Label')\n",
    "ax.set_ylabel('Y Label')\n",
    "ax.set_zlabel('Z Label')\n",
    "\n",
    "plt.show()"
   ]
  }
 ],
 "metadata": {
  "colab": {
   "authorship_tag": "ABX9TyPPWQkhsa4+g1wFNJx82PX+",
   "provenance": []
  },
  "kernelspec": {
   "display_name": "Python 3 (ipykernel)",
   "language": "python",
   "name": "python3"
  },
  "language_info": {
   "codemirror_mode": {
    "name": "ipython",
    "version": 3
   },
   "file_extension": ".py",
   "mimetype": "text/x-python",
   "name": "python",
   "nbconvert_exporter": "python",
   "pygments_lexer": "ipython3",
   "version": "3.9.13"
  }
 },
 "nbformat": 4,
 "nbformat_minor": 1
}
