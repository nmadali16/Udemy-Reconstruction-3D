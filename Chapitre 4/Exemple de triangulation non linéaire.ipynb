{
 "cells": [
  {
   "cell_type": "code",
   "execution_count": 1,
   "metadata": {
    "id": "wULS8RJJ9-Bi"
   },
   "outputs": [],
   "source": [
    "import sys\n",
    "import numpy as np\n",
    "import cv2\n",
    "\n",
    "\n",
    "import os\n",
    "import scipy.misc\n",
    "from scipy.optimize import least_squares\n",
    "import math\n",
    "from copy import deepcopy\n",
    "import matplotlib.pyplot as plt\n",
    "from mpl_toolkits.mplot3d import Axes3D\n",
    "\n"
   ]
  },
  {
   "cell_type": "code",
   "execution_count": 2,
   "metadata": {},
   "outputs": [],
   "source": [
    "def linear_estimate_3d_point(image_points, camera_matrices):\n",
    "    N = image_points.shape[0]\n",
    "    A = np.zeros((2*N, 4))\n",
    "    A_set = []\n",
    "\n",
    "    for i in range(N):\n",
    "        pi = image_points[i]\n",
    "        Mi = camera_matrices[i]\n",
    "        Aix = pi[0]*Mi[2] - Mi[0]\n",
    "        Aiy = pi[1]*Mi[2] - Mi[1]\n",
    "        A_set.append(Aix)\n",
    "        A_set.append(Aiy)\n",
    "\n",
    "    for i in range(A.shape[0]):\n",
    "        A[i] = A_set[i]\n",
    "\n",
    "    U, s, VT = np.linalg.svd(A)\n",
    "    P_homo = VT[-1]\n",
    "    P_homo /= P_homo[-1]\n",
    "    P = P_homo[:3]\n",
    "\n",
    "    return P"
   ]
  },
  {
   "cell_type": "code",
   "execution_count": 3,
   "metadata": {},
   "outputs": [],
   "source": [
    "def reprojection_error(point_3d, image_points, camera_matrices):\n",
    "    N = image_points.shape[0]\n",
    "    error_set = []\n",
    "    point_3d_homo = np.hstack((point_3d, 1))\n",
    "\n",
    "    for i in range(N):\n",
    "        pi = image_points[i]\n",
    "        Mi = camera_matrices[i]\n",
    "        Yi = Mi.dot(point_3d_homo)\n",
    "        # compute error\n",
    "        pi_prime = 1.0 / Yi[2] * np.array([Yi[0], Yi[1]])\n",
    "        error_i = (pi_prime - pi)\n",
    "        error_set.append(error_i[0])\n",
    "        error_set.append(error_i[1])\n",
    "\n",
    "    error = np.array(error_set)\n",
    "    return error"
   ]
  },
  {
   "cell_type": "code",
   "execution_count": 4,
   "metadata": {},
   "outputs": [],
   "source": [
    "def jacobian(point_3d, camera_matrices):\n",
    "    J = np.zeros((2*camera_matrices.shape[0], 3))\n",
    "    point_3d_homo = np.hstack((point_3d, 1))\n",
    "    J_set = []\n",
    "\n",
    "    for i in range(camera_matrices.shape[0]):\n",
    "        Mi = camera_matrices[i]\n",
    "        pi = Mi.dot(point_3d_homo)\n",
    "        Jix = (pi[2]*np.array([Mi[0, 0], Mi[0, 1], Mi[0, 2]]) \\\n",
    "              - pi[0]*np.array([Mi[2, 0], Mi[2, 1], Mi[2, 2]])) / pi[2]**2\n",
    "        Jiy = (pi[2]*np.array([Mi[1, 0], Mi[1, 1], Mi[1, 2]]) \\\n",
    "              - pi[1]*np.array([Mi[2, 0], Mi[2, 1], Mi[2, 2]])) / pi[2]**2\n",
    "        J_set.append(Jix)\n",
    "        J_set.append(Jiy)\n",
    "\n",
    "    for i in range(J.shape[0]):\n",
    "        J[i] = J_set[i]\n",
    "    return J"
   ]
  },
  {
   "cell_type": "markdown",
   "metadata": {
    "id": "l5Q4FBHxJYqG"
   },
   "source": [
    "L'algorithme de Gauss-Newton est une technique d'optimisation itérative couramment utilisée pour résoudre des problèmes de moindres carrés non linéaires, tels que celui rencontré dans la triangulation non linéaire. Voici comment cela fonctionne :\n",
    "\n",
    "Étant donné la fonction objective $E(X) = \\sum_{i} \\|e_i\\|^2$ (où $e_i = x_i - P_iX$), notre objectif est de trouver les coordonnées 3D $X$ qui minimisent cette fonction.\n",
    "\n",
    "1. **Initialisation** :\n",
    "   - Initialiser $X$ avec une estimation initiale.\n",
    "   - Définir un seuil de tolérance $\\epsilon$ pour la convergence.\n",
    "\n",
    "2. **Itération** :\n",
    "   Pour chaque itération $k$ :\n",
    "\n",
    "   a. **Calculer le Jacobien** :\n",
    "      - Calculer la matrice jacobienne $J$ des dérivées partielles de $e_i$ par rapport à $X$ pour tous les $i$. Il s'agit d'une matrice $m \\times n$, où $m$ est le nombre d'observations (points 2D) et $n$ est le nombre de paramètres (3 pour les coordonnées 3D).\n",
    "\n",
    "   b. **Calculer les Résidus** :\n",
    "      - Évaluer les résidus $e_i$ pour l'estimation actuelle de $X$.\n",
    "\n",
    "   c. **Étape de Mise à Jour** :\n",
    "      - Résoudre le système linéarisé $J^T J \\delta X = -J^T e$ pour $\\delta X$, où $J^T$ représente la transposée de la matrice jacobienne.\n",
    "      - Mettre à jour l'estimation : $X \\leftarrow X + \\delta X$.\n",
    "\n",
    "   d. **Vérification de Convergence** :\n",
    "      - Si $\\|\\delta X\\| < \\epsilon$ ou si le changement dans la fonction objective est très faible, mettre fin aux itérations.\n",
    "\n",
    "3. **Terminaison** :\n",
    "   - Renvoyer l'estimation finale $X$.\n"
   ]
  },
  {
   "cell_type": "code",
   "execution_count": 5,
   "metadata": {
    "id": "WPOfstQ--BXK"
   },
   "outputs": [],
   "source": [
    "image_data_dir = '../data/statue/'\n",
    "\n",
    "image_paths = [os.path.join(image_data_dir, 'images', x) for x in sorted(os.listdir('../data/statue/images')) if '.jpg' in x]"
   ]
  },
  {
   "cell_type": "code",
   "execution_count": null,
   "metadata": {
    "id": "4T9CEfM2-Cqa"
   },
   "outputs": [],
   "source": []
  },
  {
   "cell_type": "code",
   "execution_count": 6,
   "metadata": {
    "id": "tDZncU0qCTx2"
   },
   "outputs": [],
   "source": [
    "matches_subset = np.load(os.path.join(image_data_dir,'matches_subset.npy'), allow_pickle=True,encoding='latin1')[0,:]\n",
    "fundamental_matrices = np.load(os.path.join(image_data_dir,'fundamental_matrices.npy'),allow_pickle=True,encoding='latin1')[0,:]"
   ]
  },
  {
   "cell_type": "code",
   "execution_count": 7,
   "metadata": {
    "id": "Okrj3UoB-IPR"
   },
   "outputs": [],
   "source": [
    "im0 = cv2.imread(image_paths[0])\n",
    "im_height, im_width, _ = im0.shape"
   ]
  },
  {
   "cell_type": "markdown",
   "metadata": {
    "id": "XErukOlMBqp4"
   },
   "source": [
    "* Nous considérons des paires de caméras séquentielles pour déterminer les matrices de caméras\n",
    "\n",
    "$$M_1=K[I\\mid 0]$$ et $$M_2=K[R \\mid t]$$  où\n",
    "\n",
    "$$K=\\begin{bmatrix}\n",
    "f & 0 &0 \\\\\n",
    " 0&f  &0 \\\\\n",
    "0 & 0 & 1\n",
    "\\end{bmatrix}$$"
   ]
  },
  {
   "cell_type": "code",
   "execution_count": 8,
   "metadata": {
    "id": "71_7-0w2CWWr"
   },
   "outputs": [],
   "source": [
    "\n",
    "focal_length = 719.5459\n",
    "\n",
    "K = np.eye(3)\n",
    "K[0,0] = K[1,1] = focal_length\n"
   ]
  },
  {
   "cell_type": "code",
   "execution_count": 9,
   "metadata": {
    "id": "A9UA8Aeg_clN"
   },
   "outputs": [],
   "source": [
    "\n",
    "example_RT = np.array([[0.9736, -0.0988, -0.2056, 0.9994],\n",
    "        [0.1019, 0.9948, 0.0045, -0.0089],\n",
    "        [0.2041, -0.0254, 0.9786, 0.0331]])"
   ]
  },
  {
   "cell_type": "code",
   "execution_count": 10,
   "metadata": {
    "id": "KlrY5b_9-Ksg"
   },
   "outputs": [],
   "source": [
    "camera_matrices = np.zeros((2, 3, 4))\n",
    "camera_matrices[0, :, :] = K.dot(np.hstack((np.eye(3), np.zeros((3,1)))))\n",
    "camera_matrices[1, :, :] = K.dot(example_RT)\n",
    "image_points = matches_subset[0][:,0].reshape(2,2)"
   ]
  },
  {
   "cell_type": "markdown",
   "metadata": {
    "id": "CUDIvJha_qnL"
   },
   "source": [
    "*  Pour le problème de triangulation avec N images, la solution des moindres carrés linéaires est la suivante\n",
    "$$\\delta_p=-(J^TJ)^{-1}J^Te$$\n",
    "où\n",
    "$$e=\\begin{bmatrix}\n",
    "e_1\\\\\n",
    "\\vdots\\\\\n",
    "e_N\n",
    "\\end{bmatrix}=\\begin{bmatrix}\n",
    "p_1-M_n\\hat{P}\\\\\n",
    "\\\\\n",
    "p_n-M_n\\hat{P}\n",
    "\\end{bmatrix}$$\n",
    "et\n",
    "$$J=\\begin{bmatrix}\n",
    "\\frac{\\partial{e_1}}{\\partial{\\hat{P}_1}} &  \\frac{\\partial{e_1}}{\\partial{\\hat{P}_2}}&\\frac{\\partial{e_1}}{\\partial{\\hat{P}_3}} \\\\\n",
    " \\vdots& \\vdots & \\vdots\\\\\n",
    "\\frac{\\partial{e_N}}{\\partial{\\hat{P}_1}} &  \\frac{\\partial{e_N}}{\\partial{\\hat{P}_2}}&\\frac{\\partial{e_N}}{\\partial{\\hat{P}_3}}\n",
    "\\end{bmatrix}$$"
   ]
  },
  {
   "cell_type": "code",
   "execution_count": 11,
   "metadata": {
    "id": "MUi4mQKMIE--"
   },
   "outputs": [],
   "source": [
    "P = linear_estimate_3d_point(image_points, camera_matrices)"
   ]
  },
  {
   "cell_type": "code",
   "execution_count": 12,
   "metadata": {
    "id": "ciwvJtYuAHa8"
   },
   "outputs": [],
   "source": [
    "\n",
    "\n",
    "for i in range(10):\n",
    "        e = reprojection_error(P, image_points, camera_matrices)\n",
    "        J = jacobian(P, camera_matrices)\n",
    "        P -= np.linalg.inv(J.T.dot(J)).dot(J.T).dot(e)\n"
   ]
  },
  {
   "cell_type": "code",
   "execution_count": null,
   "metadata": {
    "id": "j6gulresIJAA"
   },
   "outputs": [],
   "source": []
  },
  {
   "cell_type": "markdown",
   "metadata": {
    "id": "xIoAmjmswgm_"
   },
   "source": [
    "* On peut ecrire le system comme suit\n",
    "$$\\begin{bmatrix}\n",
    "e_1\\\\\n",
    "e_2\n",
    "\\end{bmatrix}=\\begin{bmatrix}\n",
    "x-U/W\\\\\n",
    "y-V/W\n",
    "\\end{bmatrix}$$\n",
    "* où\n",
    "\n",
    "$$\\begin{bmatrix}\n",
    "U\\\\\n",
    "V\\\\\n",
    "W\n",
    "\\end{bmatrix}=\\begin{bmatrix}\n",
    "m_{11} & m_{12} &m_{13}&m_{14} \\\\\n",
    "m_{21} & m_{22} &m_{23}&m_{24} \\\\\n",
    "m_{31} & m_{32} &m_{33}&m_{34}\n",
    "\\end{bmatrix}\\begin{bmatrix}\n",
    "X\\\\\n",
    "Y\\\\\n",
    "Z\\\\\n",
    "1\n",
    "\\end{bmatrix}=\\begin{bmatrix}\n",
    "m_{11}X + m_{12}Y +m_{13} W+m_{14} \\\\\n",
    "m_{21}X + m_{22}Y +m_{23}W+m_{24} \\\\\n",
    "m_{31}X + m_{32}Y +m_{33}W+m_{34}\n",
    "\\end{bmatrix}$$\n",
    "* La jacobian pour chaque point de correspondance est alors donné par\n",
    "\n",
    "$$ [  \\frac{\\partial e_1}{\\partial X}, \\frac{\\partial e_1}{\\partial Y}, \\frac{\\partial e_1}{\\partial Z}]=\\frac{W [ m_{11},m_{12},m_{13}  ]-U [ m_{31},m_{32},m_{33} ]}{W^2}$$\n",
    "\n",
    "\n",
    "$$ [  \\frac{\\partial e_2}{\\partial X}, \\frac{\\partial e_2}{\\partial Y}, \\frac{\\partial e_2}{\\partial Z}]=\\frac{W [ m_{21},m_{22},m_{23}  ]-V [ m_{31},m_{32},m_{33} ]}{W^2}$$\n",
    "\n",
    "\n"
   ]
  },
  {
   "cell_type": "code",
   "execution_count": null,
   "metadata": {
    "id": "2U_Y1nciICiD"
   },
   "outputs": [],
   "source": []
  },
  {
   "cell_type": "code",
   "execution_count": null,
   "metadata": {
    "id": "GEEXUNWpKEOL"
   },
   "outputs": [],
   "source": []
  },
  {
   "cell_type": "code",
   "execution_count": 13,
   "metadata": {
    "colab": {
     "base_uri": "https://localhost:8080/"
    },
    "executionInfo": {
     "elapsed": 5,
     "status": "ok",
     "timestamp": 1694786879048,
     "user": {
      "displayName": "nabil bcom",
      "userId": "04169804032469069549"
     },
     "user_tz": -120
    },
    "id": "C0X31UA8-tsf",
    "outputId": "8e1aba6a-dfa8-43b9-e310-ba56fdf166d8"
   },
   "outputs": [
    {
     "name": "stdout",
     "output_type": "stream",
     "text": [
      "Difference:  0.002954993831610686\n"
     ]
    }
   ],
   "source": [
    "\n",
    "expected_3d_point = np.array([0.6774, -1.1029, 4.6621])\n",
    "print(\"Difference: \", np.fabs(P - expected_3d_point).sum())"
   ]
  }
 ],
 "metadata": {
  "colab": {
   "authorship_tag": "ABX9TyMx8OK1f8K5QAAuhq9A9h3P",
   "provenance": []
  },
  "kernelspec": {
   "display_name": "Python 3 (ipykernel)",
   "language": "python",
   "name": "python3"
  },
  "language_info": {
   "codemirror_mode": {
    "name": "ipython",
    "version": 3
   },
   "file_extension": ".py",
   "mimetype": "text/x-python",
   "name": "python",
   "nbconvert_exporter": "python",
   "pygments_lexer": "ipython3",
   "version": "3.9.13"
  }
 },
 "nbformat": 4,
 "nbformat_minor": 1
}
