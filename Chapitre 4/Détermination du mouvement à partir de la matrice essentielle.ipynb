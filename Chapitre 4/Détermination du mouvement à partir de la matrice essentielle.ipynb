{
 "cells": [
  {
   "cell_type": "code",
   "execution_count": 1,
   "metadata": {
    "executionInfo": {
     "elapsed": 396,
     "status": "ok",
     "timestamp": 1694867076551,
     "user": {
      "displayName": "nabil bcom",
      "userId": "04169804032469069549"
     },
     "user_tz": -120
    },
    "id": "viC1qndF5wxa"
   },
   "outputs": [],
   "source": [
    "import sys\n",
    "import numpy as np\n",
    "import cv2\n",
    "\n",
    "\n",
    "import os\n",
    "import scipy.misc\n",
    "from scipy.optimize import least_squares\n",
    "import math\n",
    "from copy import deepcopy\n",
    "import matplotlib.pyplot as plt\n",
    "from mpl_toolkits.mplot3d import Axes3D\n",
    "from triangulation import *\n"
   ]
  },
  {
   "cell_type": "code",
   "execution_count": 2,
   "metadata": {
    "executionInfo": {
     "elapsed": 4,
     "status": "ok",
     "timestamp": 1694867076551,
     "user": {
      "displayName": "nabil bcom",
      "userId": "04169804032469069549"
     },
     "user_tz": -120
    },
    "id": "Q4mHRlMS7iZ2"
   },
   "outputs": [],
   "source": [
    "image_data_dir = '../data/statue/'\n",
    "image_paths = [os.path.join(image_data_dir, 'images', x) for x in sorted(os.listdir('../data/statue/images')) if '.jpg' in x]"
   ]
  },
  {
   "cell_type": "code",
   "execution_count": 3,
   "metadata": {
    "executionInfo": {
     "elapsed": 4,
     "status": "ok",
     "timestamp": 1694867076552,
     "user": {
      "displayName": "nabil bcom",
      "userId": "04169804032469069549"
     },
     "user_tz": -120
    },
    "id": "2CF38oWj7j-Y"
   },
   "outputs": [],
   "source": [
    "\n",
    "matches_subset = np.load(os.path.join(image_data_dir,'matches_subset.npy'), allow_pickle=True,encoding='latin1')[0,:]\n",
    "fundamental_matrices = np.load(os.path.join(image_data_dir,'fundamental_matrices.npy'),allow_pickle=True,encoding='latin1')[0,:]\n",
    "image_points = matches_subset[0][:,0].reshape(2,2)"
   ]
  },
  {
   "cell_type": "code",
   "execution_count": 4,
   "metadata": {
    "executionInfo": {
     "elapsed": 4,
     "status": "ok",
     "timestamp": 1694867076552,
     "user": {
      "displayName": "nabil bcom",
      "userId": "04169804032469069549"
     },
     "user_tz": -120
    },
    "id": "V8zzCYKP4XI0"
   },
   "outputs": [],
   "source": [
    "im0 = cv2.imread(image_paths[0])\n",
    "im_height, im_width, _ = im0.shape"
   ]
  },
  {
   "cell_type": "markdown",
   "metadata": {
    "id": "xwArLs3t4X0d"
   },
   "source": [
    "* Nous pouvons calculer la matrice essentielle E soit directement à partir de sa relation avec la matrice fondamentale F et la matrice intrinsèque K :\n",
    "$$E=K^TFK$$"
   ]
  },
  {
   "cell_type": "markdown",
   "metadata": {
    "id": "fiQnX99QDKbC"
   },
   "source": [
    "* Ici, K est donné par\n",
    "\n",
    "$$K=\\begin{bmatrix}\n",
    "f & 0 &0 \\\\\n",
    " 0&f  &0 \\\\\n",
    "0 & 0 & 1\n",
    "\\end{bmatrix}$$"
   ]
  },
  {
   "cell_type": "code",
   "execution_count": 5,
   "metadata": {
    "executionInfo": {
     "elapsed": 4,
     "status": "ok",
     "timestamp": 1694867076552,
     "user": {
      "displayName": "nabil bcom",
      "userId": "04169804032469069549"
     },
     "user_tz": -120
    },
    "id": "cc2Byq7C4RSS"
   },
   "outputs": [],
   "source": [
    "focal_length = 719.5459\n",
    "K = np.eye(3)\n",
    "K[0,0] = K[1,1] = focal_length\n",
    "E = K.T.dot(fundamental_matrices[0]).dot(K)"
   ]
  },
  {
   "cell_type": "markdown",
   "metadata": {
    "id": "EwHo6fri5Rzk"
   },
   "source": [
    "* Nous pouvons réécrire la matrice essentielle comme suit :\n",
    "\n",
    "$$E=[R \\mid t]=Udiag(1,1,0)(WU^TR)$$\n",
    "où\n",
    "$$W=\\begin{bmatrix}\n",
    "0 &  -1&0 \\\\\n",
    " 1& 0 & 0\\\\\n",
    " 0&0  & 1\n",
    "\\end{bmatrix},Z=\\begin{bmatrix}\n",
    "0 &  1&0 \\\\\n",
    " -1& 0 & 0\\\\\n",
    " 0&0  & 0\n",
    "\\end{bmatrix}$$\n",
    "\n",
    "* En examinant attentivement cette expression, nous constatons qu'elle ressemble beaucoup à la décomposition en valeurs singulières $E = UΣV^T$ , on obtient alors les factorisations suivantes de E :\n",
    "\n",
    "$$t=\\pm u_3,\\quad R=det(UWV^T)UWV^T \\text{ ou } det(UW^TV^T)UW^TV^T$$"
   ]
  },
  {
   "cell_type": "code",
   "execution_count": 6,
   "metadata": {
    "executionInfo": {
     "elapsed": 4,
     "status": "ok",
     "timestamp": 1694867076552,
     "user": {
      "displayName": "nabil bcom",
      "userId": "04169804032469069549"
     },
     "user_tz": -120
    },
    "id": "jWd4bX9d66Oh"
   },
   "outputs": [],
   "source": [
    "Z = np.array([[0, 1, 0],\n",
    "                  [-1, 0, 0],\n",
    "                  [0, 0, 0]])\n",
    "W = np.array([[0, -1, 0],\n",
    "                  [1, 0, 0],\n",
    "                  [0, 0, 1]])"
   ]
  },
  {
   "cell_type": "code",
   "execution_count": 7,
   "metadata": {
    "executionInfo": {
     "elapsed": 4,
     "status": "ok",
     "timestamp": 1694867076552,
     "user": {
      "displayName": "nabil bcom",
      "userId": "04169804032469069549"
     },
     "user_tz": -120
    },
    "id": "vG72UwkB67kq"
   },
   "outputs": [],
   "source": [
    "U, s, VT = np.linalg.svd(E)"
   ]
  },
  {
   "cell_type": "code",
   "execution_count": 8,
   "metadata": {
    "executionInfo": {
     "elapsed": 4,
     "status": "ok",
     "timestamp": 1694867076553,
     "user": {
      "displayName": "nabil bcom",
      "userId": "04169804032469069549"
     },
     "user_tz": -120
    },
    "id": "KGKLP3ox6-kG"
   },
   "outputs": [],
   "source": [
    "\n",
    "Q1 = U.dot(W).dot(VT)\n",
    "R1 = np.linalg.det(Q1) * 1.0 * Q1\n",
    "\n",
    "Q2 = U.dot(W.T).dot(VT)\n",
    "R2 = np.linalg.det(Q2) * 1.0 * Q2"
   ]
  },
  {
   "cell_type": "code",
   "execution_count": 9,
   "metadata": {
    "executionInfo": {
     "elapsed": 4,
     "status": "ok",
     "timestamp": 1694867076553,
     "user": {
      "displayName": "nabil bcom",
      "userId": "04169804032469069549"
     },
     "user_tz": -120
    },
    "id": "Kxni1cO67HJz"
   },
   "outputs": [],
   "source": [
    "M = U.dot(Z).dot(U.T)"
   ]
  },
  {
   "cell_type": "code",
   "execution_count": 10,
   "metadata": {
    "executionInfo": {
     "elapsed": 4,
     "status": "ok",
     "timestamp": 1694867076553,
     "user": {
      "displayName": "nabil bcom",
      "userId": "04169804032469069549"
     },
     "user_tz": -120
    },
    "id": "SBdOpWcj62Ns"
   },
   "outputs": [],
   "source": [
    "# compute T\n",
    "T1 = U[:, 2].reshape(-1, 1)\n",
    "T2 = -U[:, 2].reshape(-1, 1)\n",
    "\n",
    "R_set = [R1, R2]\n",
    "T_set = [T1, T2]\n",
    "RT_set = []\n",
    "for i in range(len(R_set)):\n",
    "        for j in range(len(T_set)):\n",
    "            RT_set.append(np.hstack((R_set[i], T_set[j])))\n",
    "\n",
    "estimated_RT = np.zeros((4, 3, 4))\n",
    "for i in range(estimated_RT.shape[0]):\n",
    "        estimated_RT[i, :, :] = RT_set[i]"
   ]
  },
  {
   "cell_type": "code",
   "execution_count": 11,
   "metadata": {
    "colab": {
     "base_uri": "https://localhost:8080/"
    },
    "executionInfo": {
     "elapsed": 339,
     "status": "ok",
     "timestamp": 1694867076888,
     "user": {
      "displayName": "nabil bcom",
      "userId": "04169804032469069549"
     },
     "user_tz": -120
    },
    "id": "RTcAG2Xo7Phg",
    "outputId": "464cd844-462c-4029-ab62-96b02ffc1d69"
   },
   "outputs": [
    {
     "name": "stdout",
     "output_type": "stream",
     "text": [
      "Estimated RT:\n",
      " [[[ 0.98305251 -0.11787055 -0.14040758  0.99941228]\n",
      "  [-0.11925737 -0.99286228 -0.00147453 -0.00886961]\n",
      "  [-0.13923158  0.01819418 -0.99009269  0.03311219]]\n",
      "\n",
      " [[ 0.98305251 -0.11787055 -0.14040758 -0.99941228]\n",
      "  [-0.11925737 -0.99286228 -0.00147453  0.00886961]\n",
      "  [-0.13923158  0.01819418 -0.99009269 -0.03311219]]\n",
      "\n",
      " [[ 0.97364135 -0.09878708 -0.20558119  0.99941228]\n",
      "  [ 0.10189204  0.99478508  0.00454512 -0.00886961]\n",
      "  [ 0.2040601  -0.02537241  0.97862951  0.03311219]]\n",
      "\n",
      " [[ 0.97364135 -0.09878708 -0.20558119 -0.99941228]\n",
      "  [ 0.10189204  0.99478508  0.00454512  0.00886961]\n",
      "  [ 0.2040601  -0.02537241  0.97862951 -0.03311219]]]\n"
     ]
    }
   ],
   "source": [
    "\n",
    "print(\"Estimated RT:\\n\", estimated_RT)"
   ]
  },
  {
   "cell_type": "code",
   "execution_count": 12,
   "metadata": {
    "colab": {
     "base_uri": "https://localhost:8080/"
    },
    "executionInfo": {
     "elapsed": 10,
     "status": "ok",
     "timestamp": 1694867076889,
     "user": {
      "displayName": "nabil bcom",
      "userId": "04169804032469069549"
     },
     "user_tz": -120
    },
    "id": "GADf3DcH7Og6",
    "outputId": "8f484133-96a2-45fc-d672-06b55b36706c"
   },
   "outputs": [
    {
     "name": "stdout",
     "output_type": "stream",
     "text": [
      "Example RT:\n",
      " [[ 0.9736 -0.0988 -0.2056  0.9994]\n",
      " [ 0.1019  0.9948  0.0045 -0.0089]\n",
      " [ 0.2041 -0.0254  0.9786  0.0331]]\n"
     ]
    }
   ],
   "source": [
    "\n",
    "example_RT = np.array([[0.9736, -0.0988, -0.2056, 0.9994],\n",
    "        [0.1019, 0.9948, 0.0045, -0.0089],\n",
    "        [0.2041, -0.0254, 0.9786, 0.0331]])\n",
    "print(\"Example RT:\\n\", example_RT)"
   ]
  },
  {
   "cell_type": "markdown",
   "metadata": {
    "id": "sax52PhL7jcY"
   },
   "source": [
    "* Il existe quatre solutions possibles pour extraire de la matrice Essential la rotation R et la translation t relatives de la caméra. rotation relative de la caméra R et la translation t de la matrice Essential. Cependant, seul le point reconstruit en (a), le point reconstruit se trouve devant les deux caméras.\n",
    "\n",
    "<img src=\"https://drive.google.com/uc?export=view&id=1iAsvgrEzyt-J3SonDi29xVYrW1lIZWy0\">"
   ]
  },
  {
   "cell_type": "markdown",
   "metadata": {
    "id": "-LTmyN057oGU"
   },
   "source": [
    "* Nous considérons des paires de caméras séquentielles pour déterminer les matrices de caméras\n",
    "\n",
    "$$M_1=K[I\\mid 0]$$ et $$M_2=K[R \\mid t]$$  où"
   ]
  },
  {
   "cell_type": "code",
   "execution_count": 13,
   "metadata": {
    "executionInfo": {
     "elapsed": 8,
     "status": "ok",
     "timestamp": 1694867076889,
     "user": {
      "displayName": "nabil bcom",
      "userId": "04169804032469069549"
     },
     "user_tz": -120
    },
    "id": "Q9wFVK3V7U3n"
   },
   "outputs": [],
   "source": [
    "def camera1tocamera2(P, RT):\n",
    "    P_homo = np.array([P[0], P[1], P[2], 1.0])\n",
    "    A = np.zeros((4, 4))\n",
    "    A[0:3, :] = RT\n",
    "    A[3, :] = np.array([0.0, 0.0, 0.0, 1.0])\n",
    "    P_prime_homo = A.dot(P_homo.T)\n",
    "    P_prime_homo /= P_prime_homo[3]\n",
    "    P_prime = P_prime_homo[0:3]\n",
    "    return P_prime"
   ]
  },
  {
   "cell_type": "code",
   "execution_count": 14,
   "metadata": {
    "executionInfo": {
     "elapsed": 7,
     "status": "ok",
     "timestamp": 1694867076889,
     "user": {
      "displayName": "nabil bcom",
      "userId": "04169804032469069549"
     },
     "user_tz": -120
    },
    "id": "9EDE1gSY8ebZ"
   },
   "outputs": [],
   "source": [
    "unit_test_image_matches = np.load('../data/unit_test_image_matches.npy')"
   ]
  },
  {
   "cell_type": "code",
   "execution_count": 15,
   "metadata": {
    "executionInfo": {
     "elapsed": 309,
     "status": "ok",
     "timestamp": 1694867195429,
     "user": {
      "displayName": "nabil bcom",
      "userId": "04169804032469069549"
     },
     "user_tz": -120
    },
    "id": "3xCEyX0C82PW"
   },
   "outputs": [],
   "source": [
    "image_points=np.expand_dims(unit_test_image_matches[:2,:], axis=0)"
   ]
  },
  {
   "cell_type": "code",
   "execution_count": 16,
   "metadata": {
    "colab": {
     "base_uri": "https://localhost:8080/"
    },
    "executionInfo": {
     "elapsed": 402,
     "status": "ok",
     "timestamp": 1694867216332,
     "user": {
      "displayName": "nabil bcom",
      "userId": "04169804032469069549"
     },
     "user_tz": -120
    },
    "id": "XO9M3ungLvHt",
    "outputId": "6175f5b5-bd35-4394-c355-1af98d8e4c12"
   },
   "outputs": [
    {
     "name": "stderr",
     "output_type": "stream",
     "text": [
      "C:\\Users\\nmadali\\AppData\\Local\\Temp\\ipykernel_13272\\3221398593.py:2: VisibleDeprecationWarning: Creating an ndarray from ragged nested sequences (which is a list-or-tuple of lists-or-tuples-or ndarrays with different lengths or shapes) is deprecated. If you meant to do this, you must specify 'dtype=object' when creating the ndarray.\n",
      "  P_homo = np.array([P[0], P[1], P[2], 1.0])\n"
     ]
    }
   ],
   "source": [
    "\n",
    "count = np.zeros((1, 4))\n",
    "I0 = np.array([[1.0, 0.0, 0.0, 0.0],\n",
    "                   [0.0, 1.0, 0.0, 0.0],\n",
    "                   [0.0, 0.0, 1.0, 0.0]])\n",
    "M1 = K.dot(I0)\n",
    "\n",
    "camera_matrices = np.zeros((2, 3, 4))\n",
    "camera_matrices[0] = M1\n",
    "for i in range(estimated_RT.shape[0]):\n",
    "        RTi = estimated_RT[i] # 3x4 matrix\n",
    "        M2i = K.dot(RTi)\n",
    "        camera_matrices[1] = M2i\n",
    "        for j in range(image_points.shape[0]):\n",
    "            pointj_3d = nonlinear_estimate_3d_point(image_points[j], camera_matrices)\n",
    "            Pj = np.vstack((pointj_3d.reshape(3, 1), [1]))\n",
    "            Pj_prime = camera1tocamera2(Pj, RTi)\n",
    "            if Pj[2] > 0 and Pj_prime[2] > 0:\n",
    "                count[0, i] += 1\n",
    "\n",
    "maxIndex = np.argmax(count)\n",
    "maxRT = estimated_RT[maxIndex]"
   ]
  },
  {
   "cell_type": "code",
   "execution_count": 17,
   "metadata": {
    "colab": {
     "base_uri": "https://localhost:8080/"
    },
    "executionInfo": {
     "elapsed": 303,
     "status": "ok",
     "timestamp": 1694867395492,
     "user": {
      "displayName": "nabil bcom",
      "userId": "04169804032469069549"
     },
     "user_tz": -120
    },
    "id": "R9XZnxER-ApK",
    "outputId": "fb7efa64-8251-434c-ef71-3ea6dc26d656"
   },
   "outputs": [
    {
     "data": {
      "text/plain": [
       "array([[0., 0., 1., 0.]])"
      ]
     },
     "execution_count": 17,
     "metadata": {},
     "output_type": "execute_result"
    }
   ],
   "source": [
    "count"
   ]
  },
  {
   "cell_type": "code",
   "execution_count": 18,
   "metadata": {
    "colab": {
     "base_uri": "https://localhost:8080/"
    },
    "executionInfo": {
     "elapsed": 246,
     "status": "ok",
     "timestamp": 1694867249453,
     "user": {
      "displayName": "nabil bcom",
      "userId": "04169804032469069549"
     },
     "user_tz": -120
    },
    "id": "RPNvHGis9bEI",
    "outputId": "a817af0e-7758-4d0a-fa08-a6daa7068a80"
   },
   "outputs": [
    {
     "name": "stdout",
     "output_type": "stream",
     "text": [
      "[[ 0.9736 -0.0988 -0.2056  0.9994]\n",
      " [ 0.1019  0.9948  0.0045 -0.0089]\n",
      " [ 0.2041 -0.0254  0.9786  0.0331]]\n"
     ]
    }
   ],
   "source": [
    "print(example_RT)"
   ]
  },
  {
   "cell_type": "code",
   "execution_count": 19,
   "metadata": {
    "colab": {
     "base_uri": "https://localhost:8080/"
    },
    "executionInfo": {
     "elapsed": 272,
     "status": "ok",
     "timestamp": 1694867232722,
     "user": {
      "displayName": "nabil bcom",
      "userId": "04169804032469069549"
     },
     "user_tz": -120
    },
    "id": "-wfqe-nC9YH2",
    "outputId": "7c8b638d-f8e7-44e8-b442-35d67092820d"
   },
   "outputs": [
    {
     "name": "stdout",
     "output_type": "stream",
     "text": [
      "[[ 0.97364135 -0.09878708 -0.20558119  0.99941228]\n",
      " [ 0.10189204  0.99478508  0.00454512 -0.00886961]\n",
      " [ 0.2040601  -0.02537241  0.97862951  0.03311219]]\n"
     ]
    }
   ],
   "source": [
    "print(maxRT)"
   ]
  }
 ],
 "metadata": {
  "colab": {
   "authorship_tag": "ABX9TyO5ly2VluvtmFJ04DE6glr4",
   "provenance": []
  },
  "kernelspec": {
   "display_name": "Python 3 (ipykernel)",
   "language": "python",
   "name": "python3"
  },
  "language_info": {
   "codemirror_mode": {
    "name": "ipython",
    "version": 3
   },
   "file_extension": ".py",
   "mimetype": "text/x-python",
   "name": "python",
   "nbconvert_exporter": "python",
   "pygments_lexer": "ipython3",
   "version": "3.9.13"
  }
 },
 "nbformat": 4,
 "nbformat_minor": 1
}
